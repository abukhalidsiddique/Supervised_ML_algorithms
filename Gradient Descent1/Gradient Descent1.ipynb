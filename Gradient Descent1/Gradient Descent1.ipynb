{
 "cells": [
  {
   "cell_type": "code",
   "execution_count": 1,
   "id": "c2222213-b642-4607-b9a8-83aa3b2a767d",
   "metadata": {},
   "outputs": [],
   "source": [
    "import numpy as np\n",
    "import matplotlib.pyplot as plt\n",
    "import copy\n",
    "import math\n",
    "%matplotlib inline"
   ]
  },
  {
   "cell_type": "code",
   "execution_count": 3,
   "id": "676b43f2-3055-4908-8407-b9b28abd5bb5",
   "metadata": {},
   "outputs": [],
   "source": [
    "# Function to simulate loading data (replace with actual data-loading function as needed)\n",
    "def load_data():\n",
    "    # Simulated example data: population (x) and profit (y)\n",
    "    x_train = np.array([6.1101, 5.5277, 8.5186, 7.0032, 5.8598])\n",
    "    y_train = np.array([17.592, 9.1302, 13.662, 11.854, 6.8233])\n",
    "    return x_train, y_train"
   ]
  },
  {
   "cell_type": "code",
   "execution_count": 4,
   "id": "45913a42-c887-4201-aca0-1fc7368b1f45",
   "metadata": {},
   "outputs": [
    {
     "name": "stdout",
     "output_type": "stream",
     "text": [
      "Type of x_train: <class 'numpy.ndarray'>\n",
      "First five elements of x_train are:\n",
      " [6.1101 5.5277 8.5186 7.0032 5.8598]\n"
     ]
    }
   ],
   "source": [
    "# Load the dataset\n",
    "x_train, y_train = load_data()\n",
    "\n",
    "# Print x_train\n",
    "print(\"Type of x_train:\", type(x_train))\n",
    "print(\"First five elements of x_train are:\\n\", x_train[:5]) "
   ]
  },
  {
   "cell_type": "code",
   "execution_count": 5,
   "id": "7baf0544-cd9d-491c-ab6c-9568b86ea1d8",
   "metadata": {},
   "outputs": [
    {
     "name": "stdout",
     "output_type": "stream",
     "text": [
      "Type of y_train: <class 'numpy.ndarray'>\n",
      "First five elements of y_train are:\n",
      " [17.592   9.1302 13.662  11.854   6.8233]\n",
      "The shape of x_train is: (5,)\n",
      "The shape of y_train is: (5,)\n",
      "Number of training examples (m): 5\n"
     ]
    }
   ],
   "source": [
    "# Print y_train\n",
    "print(\"Type of y_train:\", type(y_train))\n",
    "print(\"First five elements of y_train are:\\n\", y_train[:5])  \n",
    "print('The shape of x_train is:', x_train.shape)\n",
    "print('The shape of y_train is:', y_train.shape)\n",
    "print('Number of training examples (m):', len(x_train))"
   ]
  },
  {
   "cell_type": "code",
   "execution_count": 6,
   "id": "27ede2e9-4485-43e5-963d-ffb8cdb6e5be",
   "metadata": {},
   "outputs": [
    {
     "data": {
      "image/png": "[encoded data removed]",
      "text/plain": [
       "<Figure size 640x480 with 1 Axes>"
      ]
     },
     "metadata": {},
     "output_type": "display_data"
    }
   ],
   "source": [
    "# Create a scatter plot of the data\n",
    "plt.scatter(x_train, y_train, marker='x', c='r') \n",
    "plt.title(\"Profits vs. Population per city\")\n",
    "plt.ylabel('Profit in $10,000')\n",
    "plt.xlabel('Population of City in 10,000s')\n",
    "plt.show()"
   ]
  },
  {
   "cell_type": "code",
   "execution_count": 7,
   "id": "ab40f450-610f-4c38-9e7b-33f7234a981c",
   "metadata": {},
   "outputs": [],
   "source": [
    "# Compute the cost function\n",
    "def compute_cost(x, y, w, b): \n",
    "    \"\"\"\n",
    "    Computes the cost function for linear regression.\n",
    "    Args:\n",
    "        x (ndarray): Shape (m,) Input to the model (Population of cities) \n",
    "        y (ndarray): Shape (m,) Label (Actual profits for the cities)\n",
    "        w, b (scalar): Parameters of the model\n",
    "    Returns:\n",
    "        total_cost (float): The cost of using w,b as the parameters for linear regression\n",
    "    \"\"\"\n",
    "    m = x.shape[0] \n",
    "    total_cost = 0\n",
    "    for i in range(m):\n",
    "        f_wb = w * x[i] + b\n",
    "        total_cost += (f_wb - y[i]) ** 2\n",
    "    total_cost /= (2 * m)\n",
    "    return total_cost"
   ]
  },
  {
   "cell_type": "code",
   "execution_count": 20,
   "id": "4d603d0b-51c0-42ec-aad7-35c7f4ed6414",
   "metadata": {},
   "outputs": [
    {
     "name": "stdout",
     "output_type": "stream",
     "text": [
      "Cost at initial w: 9.152\n"
     ]
    }
   ],
   "source": [
    "# Compute cost with some initial values for parameters w, b\n",
    "initial_w = 2\n",
    "initial_b = 1\n",
    "cost = compute_cost(x_train, y_train, initial_w, initial_b)\n",
    "print(f'Cost at initial w: {cost:.3f}')"
   ]
  },
  {
   "cell_type": "code",
   "execution_count": 21,
   "id": "53a3cdc4-7dab-4693-a2cd-8fa9beb9bcb2",
   "metadata": {},
   "outputs": [],
   "source": [
    "# Compute the gradient\n",
    "def compute_gradient(x, y, w, b): \n",
    "    \"\"\"\n",
    "    Computes the gradient for linear regression.\n",
    "    Args:\n",
    "        x (ndarray): Shape (m,) Input to the model (Population of cities) \n",
    "        y (ndarray): Shape (m,) Label (Actual profits for the cities)\n",
    "        w, b (scalar): Parameters of the model  \n",
    "    Returns:\n",
    "        dj_dw (scalar): Gradient of the cost w.r.t. parameter w\n",
    "        dj_db (scalar): Gradient of the cost w.r.t. parameter b\n",
    "    \"\"\"\n",
    "    m = x.shape[0]\n",
    "    dj_dw = 0\n",
    "    dj_db = 0\n",
    "    for i in range(m):\n",
    "        f_wb = w * x[i] + b\n",
    "        dj_dw += (f_wb - y[i]) * x[i]\n",
    "        dj_db += (f_wb - y[i])\n",
    "    dj_dw /= m\n",
    "    dj_db /= m\n",
    "    return dj_dw, dj_db"
   ]
  },
  {
   "cell_type": "code",
   "execution_count": 22,
   "id": "6542f2de-05cf-43e9-9715-b87de5a4a497",
   "metadata": {},
   "outputs": [
    {
     "name": "stdout",
     "output_type": "stream",
     "text": [
      "Gradient at initial w, b (zeros): -79.467621016 -11.812299999999999\n"
     ]
    }
   ],
   "source": [
    "# Compute and display gradient with w initialized to zeroes\n",
    "initial_w = 0\n",
    "initial_b = 0\n",
    "tmp_dj_dw, tmp_dj_db = compute_gradient(x_train, y_train, initial_w, initial_b)\n",
    "print('Gradient at initial w, b (zeros):', tmp_dj_dw, tmp_dj_db)"
   ]
  },
  {
   "cell_type": "code",
   "execution_count": 23,
   "id": "b38536ae-0a20-4766-a363-9ea81be0f263",
   "metadata": {},
   "outputs": [],
   "source": [
    "# Perform gradient descent\n",
    "def gradient_descent(x, y, w_in, b_in, cost_function, gradient_function, alpha, num_iters): \n",
    "    \"\"\"\n",
    "    Performs batch gradient descent to learn w and b.\n",
    "    \"\"\"\n",
    "    m = len(x)\n",
    "    J_history = []\n",
    "    w_history = []\n",
    "    w = copy.deepcopy(w_in)\n",
    "    b = b_in\n",
    "    \n",
    "    for i in range(num_iters):\n",
    "        dj_dw, dj_db = gradient_function(x, y, w, b)\n",
    "        w -= alpha * dj_dw\n",
    "        b -= alpha * dj_db\n",
    "        \n",
    "        if i < 100000:\n",
    "            cost = cost_function(x, y, w, b)\n",
    "            J_history.append(cost)\n",
    "\n",
    "        if i % math.ceil(num_iters / 10) == 0:\n",
    "            w_history.append(w)\n",
    "            print(f\"Iteration {i:4}: Cost {float(J_history[-1]):8.2f}\")\n",
    "\n",
    "    return w, b, J_history, w_history"
   ]
  },
  {
   "cell_type": "code",
   "execution_count": 24,
   "id": "743a495b-4225-412c-a6fe-d3ab7973b4e6",
   "metadata": {},
   "outputs": [
    {
     "name": "stdout",
     "output_type": "stream",
     "text": [
      "Iteration    0: Cost    26.87\n",
      "Iteration  150: Cost     6.09\n",
      "Iteration  300: Cost     6.08\n",
      "Iteration  450: Cost     6.07\n",
      "Iteration  600: Cost     6.07\n",
      "Iteration  750: Cost     6.06\n",
      "Iteration  900: Cost     6.05\n",
      "Iteration 1050: Cost     6.05\n",
      "Iteration 1200: Cost     6.04\n",
      "Iteration 1350: Cost     6.04\n",
      "w,b found by gradient descent: 1.5878591148635817 1.2706734775735502\n"
     ]
    }
   ],
   "source": [
    "# Gradient descent settings\n",
    "initial_w = 0\n",
    "initial_b = 0\n",
    "iterations = 1500\n",
    "alpha = 0.01\n",
    "\n",
    "w, b, _, _ = gradient_descent(x_train, y_train, initial_w, initial_b, \n",
    "                              compute_cost, compute_gradient, alpha, iterations)\n",
    "print(\"w,b found by gradient descent:\", w, b)"
   ]
  },
  {
   "cell_type": "code",
   "execution_count": 25,
   "id": "d69bd560-e71c-41c8-8558-c369cb5332bc",
   "metadata": {},
   "outputs": [],
   "source": [
    "# Make predictions\n",
    "m = x_train.shape[0]\n",
    "predicted = np.zeros(m)\n",
    "for i in range(m):\n",
    "    predicted[i] = w * x_train[i] + b"
   ]
  },
  {
   "cell_type": "code",
   "execution_count": 26,
   "id": "558e302a-a98f-4dfd-abc9-5ba3fd365a57",
   "metadata": {},
   "outputs": [
    {
     "data": {
      "image/png": "[encoded data removed]",
      "text/plain": [
       "<Figure size 640x480 with 1 Axes>"
      ]
     },
     "metadata": {},
     "output_type": "display_data"
    }
   ],
   "source": [
    "# Plot the linear fit\n",
    "plt.plot(x_train, predicted, c=\"b\")\n",
    "plt.scatter(x_train, y_train, marker='x', c='r') \n",
    "plt.title(\"Profits vs. Population per city\")\n",
    "plt.ylabel('Profit in $10,000')\n",
    "plt.xlabel('Population of City in 10,000s')\n",
    "plt.show()"
   ]
  },
  {
   "cell_type": "code",
   "execution_count": 27,
   "id": "3cad88f2-e0a4-4caf-a70d-308c71131a61",
   "metadata": {},
   "outputs": [
    {
     "name": "stdout",
     "output_type": "stream",
     "text": [
      "For population = 35,000, we predict a profit of $68281.80\n",
      "For population = 70,000, we predict a profit of $123856.87\n"
     ]
    }
   ],
   "source": [
    "# Predict for populations of 35,000 and 70,000\n",
    "predict1 = 3.5 * w + b\n",
    "print(f'For population = 35,000, we predict a profit of ${predict1*10000:.2f}')\n",
    "\n",
    "predict2 = 7.0 * w + b\n",
    "print(f'For population = 70,000, we predict a profit of ${predict2*10000:.2f}')"
   ]
  }
 ],
 "metadata": {
  "kernelspec": {
   "display_name": "Python 3 (ipykernel)",
   "language": "python",
   "name": "python3"
  },
  "language_info": {
   "codemirror_mode": {
    "name": "ipython",
    "version": 3
   },
   "file_extension": ".py",
   "mimetype": "text/x-python",
   "name": "python",
   "nbconvert_exporter": "python",
   "pygments_lexer": "ipython3",
   "version": "3.12.4"
  }
 },
 "nbformat": 4,
 "nbformat_minor": 5
}
