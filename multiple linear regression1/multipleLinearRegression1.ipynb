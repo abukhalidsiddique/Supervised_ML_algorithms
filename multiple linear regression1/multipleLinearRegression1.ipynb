{
 "cells": [
  {
   "cell_type": "code",
   "execution_count": 49,
   "id": "87372ee8",
   "metadata": {},
   "outputs": [],
   "source": [
    "from sklearn.datasets import make_regression\n",
    "from sklearn.model_selection import train_test_split\n",
    "from sklearn.linear_model import LinearRegression\n",
    "from sklearn.metrics import mean_squared_error, mean_absolute_error,r2_score\n",
    "import numpy as np\n",
    "import matplotlib.pyplot as plt"
   ]
  },
  {
   "cell_type": "code",
   "execution_count": 50,
   "id": "461cdd5b-6af2-4ca1-9910-efd030b51fd7",
   "metadata": {},
   "outputs": [],
   "source": [
    "x,y = make_regression()"
   ]
  },
  {
   "cell_type": "code",
   "execution_count": 51,
   "id": "fa56a48c-d9ae-43ba-9d0e-2f79caa4bf75",
   "metadata": {},
   "outputs": [],
   "source": [
    "x_train, x_test, y_train, y_test = train_test_split(x, y, test_size=0.3, random_state=42)"
   ]
  },
  {
   "cell_type": "code",
   "execution_count": 52,
   "id": "e48071be-f6e7-4f5a-b95f-dd06af6fb798",
   "metadata": {},
   "outputs": [],
   "source": [
    "lr_model = LinearRegression()"
   ]
  },
  {
   "cell_type": "code",
   "execution_count": 53,
   "id": "dbfb4515-c1a2-452c-bf5f-2c0c72af0106",
   "metadata": {},
   "outputs": [
    {
     "data": {
      "text/html": [
       "<style>#sk-container-id-4 {\n",
       "  /* Definition of color scheme common for light and dark mode */\n",
       "  --sklearn-color-text: black;\n",
       "  --sklearn-color-line: gray;\n",
       "  /* Definition of color scheme for unfitted estimators */\n",
       "  --sklearn-color-unfitted-level-0: #fff5e6;\n",
       "  --sklearn-color-unfitted-level-1: #f6e4d2;\n",
       "  --sklearn-color-unfitted-level-2: #ffe0b3;\n",
       "  --sklearn-color-unfitted-level-3: chocolate;\n",
       "  /* Definition of color scheme for fitted estimators */\n",
       "  --sklearn-color-fitted-level-0: #f0f8ff;\n",
       "  --sklearn-color-fitted-level-1: #d4ebff;\n",
       "  --sklearn-color-fitted-level-2: #b3dbfd;\n",
       "  --sklearn-color-fitted-level-3: cornflowerblue;\n",
       "\n",
       "  /* Specific color for light theme */\n",
       "  --sklearn-color-text-on-default-background: var(--sg-text-color, var(--theme-code-foreground, var(--jp-content-font-color1, black)));\n",
       "  --sklearn-color-background: var(--sg-background-color, var(--theme-background, var(--jp-layout-color0, white)));\n",
       "  --sklearn-color-border-box: var(--sg-text-color, var(--theme-code-foreground, var(--jp-content-font-color1, black)));\n",
       "  --sklearn-color-icon: #696969;\n",
       "\n",
       "  @media (prefers-color-scheme: dark) {\n",
       "    /* Redefinition of color scheme for dark theme */\n",
       "    --sklearn-color-text-on-default-background: var(--sg-text-color, var(--theme-code-foreground, var(--jp-content-font-color1, white)));\n",
       "    --sklearn-color-background: var(--sg-background-color, var(--theme-background, var(--jp-layout-color0, #111)));\n",
       "    --sklearn-color-border-box: var(--sg-text-color, var(--theme-code-foreground, var(--jp-content-font-color1, white)));\n",
       "    --sklearn-color-icon: #878787;\n",
       "  }\n",
       "}\n",
       "\n",
       "#sk-container-id-4 {\n",
       "  color: var(--sklearn-color-text);\n",
       "}\n",
       "\n",
       "#sk-container-id-4 pre {\n",
       "  padding: 0;\n",
       "}\n",
       "\n",
       "#sk-container-id-4 input.sk-hidden--visually {\n",
       "  border: 0;\n",
       "  clip: rect(1px 1px 1px 1px);\n",
       "  clip: rect(1px, 1px, 1px, 1px);\n",
       "  height: 1px;\n",
       "  margin: -1px;\n",
       "  overflow: hidden;\n",
       "  padding: 0;\n",
       "  position: absolute;\n",
       "  width: 1px;\n",
       "}\n",
       "\n",
       "#sk-container-id-4 div.sk-dashed-wrapped {\n",
       "  border: 1px dashed var(--sklearn-color-line);\n",
       "  margin: 0 0.4em 0.5em 0.4em;\n",
       "  box-sizing: border-box;\n",
       "  padding-bottom: 0.4em;\n",
       "  background-color: var(--sklearn-color-background);\n",
       "}\n",
       "\n",
       "#sk-container-id-4 div.sk-container {\n",
       "  /* jupyter's `normalize.less` sets `[hidden] { display: none; }`\n",
       "     but bootstrap.min.css set `[hidden] { display: none !important; }`\n",
       "     so we also need the `!important` here to be able to override the\n",
       "     default hidden behavior on the sphinx rendered scikit-learn.org.\n",
       "     See: https://github.com/scikit-learn/scikit-learn/issues/21755 */\n",
       "  display: inline-block !important;\n",
       "  position: relative;\n",
       "}\n",
       "\n",
       "#sk-container-id-4 div.sk-text-repr-fallback {\n",
       "  display: none;\n",
       "}\n",
       "\n",
       "div.sk-parallel-item,\n",
       "div.sk-serial,\n",
       "div.sk-item {\n",
       "  /* draw centered vertical line to link estimators */\n",
       "  background-image: linear-gradient(var(--sklearn-color-text-on-default-background), var(--sklearn-color-text-on-default-background));\n",
       "  background-size: 2px 100%;\n",
       "  background-repeat: no-repeat;\n",
       "  background-position: center center;\n",
       "}\n",
       "\n",
       "/* Parallel-specific style estimator block */\n",
       "\n",
       "#sk-container-id-4 div.sk-parallel-item::after {\n",
       "  content: \"\";\n",
       "  width: 100%;\n",
       "  border-bottom: 2px solid var(--sklearn-color-text-on-default-background);\n",
       "  flex-grow: 1;\n",
       "}\n",
       "\n",
       "#sk-container-id-4 div.sk-parallel {\n",
       "  display: flex;\n",
       "  align-items: stretch;\n",
       "  justify-content: center;\n",
       "  background-color: var(--sklearn-color-background);\n",
       "  position: relative;\n",
       "}\n",
       "\n",
       "#sk-container-id-4 div.sk-parallel-item {\n",
       "  display: flex;\n",
       "  flex-direction: column;\n",
       "}\n",
       "\n",
       "#sk-container-id-4 div.sk-parallel-item:first-child::after {\n",
       "  align-self: flex-end;\n",
       "  width: 50%;\n",
       "}\n",
       "\n",
       "#sk-container-id-4 div.sk-parallel-item:last-child::after {\n",
       "  align-self: flex-start;\n",
       "  width: 50%;\n",
       "}\n",
       "\n",
       "#sk-container-id-4 div.sk-parallel-item:only-child::after {\n",
       "  width: 0;\n",
       "}\n",
       "\n",
       "/* Serial-specific style estimator block */\n",
       "\n",
       "#sk-container-id-4 div.sk-serial {\n",
       "  display: flex;\n",
       "  flex-direction: column;\n",
       "  align-items: center;\n",
       "  background-color: var(--sklearn-color-background);\n",
       "  padding-right: 1em;\n",
       "  padding-left: 1em;\n",
       "}\n",
       "\n",
       "\n",
       "/* Toggleable style: style used for estimator/Pipeline/ColumnTransformer box that is\n",
       "clickable and can be expanded/collapsed.\n",
       "- Pipeline and ColumnTransformer use this feature and define the default style\n",
       "- Estimators will overwrite some part of the style using the `sk-estimator` class\n",
       "*/\n",
       "\n",
       "/* Pipeline and ColumnTransformer style (default) */\n",
       "\n",
       "#sk-container-id-4 div.sk-toggleable {\n",
       "  /* Default theme specific background. It is overwritten whether we have a\n",
       "  specific estimator or a Pipeline/ColumnTransformer */\n",
       "  background-color: var(--sklearn-color-background);\n",
       "}\n",
       "\n",
       "/* Toggleable label */\n",
       "#sk-container-id-4 label.sk-toggleable__label {\n",
       "  cursor: pointer;\n",
       "  display: block;\n",
       "  width: 100%;\n",
       "  margin-bottom: 0;\n",
       "  padding: 0.5em;\n",
       "  box-sizing: border-box;\n",
       "  text-align: center;\n",
       "}\n",
       "\n",
       "#sk-container-id-4 label.sk-toggleable__label-arrow:before {\n",
       "  /* Arrow on the left of the label */\n",
       "  content: \"▸\";\n",
       "  float: left;\n",
       "  margin-right: 0.25em;\n",
       "  color: var(--sklearn-color-icon);\n",
       "}\n",
       "\n",
       "#sk-container-id-4 label.sk-toggleable__label-arrow:hover:before {\n",
       "  color: var(--sklearn-color-text);\n",
       "}\n",
       "\n",
       "/* Toggleable content - dropdown */\n",
       "\n",
       "#sk-container-id-4 div.sk-toggleable__content {\n",
       "  max-height: 0;\n",
       "  max-width: 0;\n",
       "  overflow: hidden;\n",
       "  text-align: left;\n",
       "  /* unfitted */\n",
       "  background-color: var(--sklearn-color-unfitted-level-0);\n",
       "}\n",
       "\n",
       "#sk-container-id-4 div.sk-toggleable__content.fitted {\n",
       "  /* fitted */\n",
       "  background-color: var(--sklearn-color-fitted-level-0);\n",
       "}\n",
       "\n",
       "#sk-container-id-4 div.sk-toggleable__content pre {\n",
       "  margin: 0.2em;\n",
       "  border-radius: 0.25em;\n",
       "  color: var(--sklearn-color-text);\n",
       "  /* unfitted */\n",
       "  background-color: var(--sklearn-color-unfitted-level-0);\n",
       "}\n",
       "\n",
       "#sk-container-id-4 div.sk-toggleable__content.fitted pre {\n",
       "  /* unfitted */\n",
       "  background-color: var(--sklearn-color-fitted-level-0);\n",
       "}\n",
       "\n",
       "#sk-container-id-4 input.sk-toggleable__control:checked~div.sk-toggleable__content {\n",
       "  /* Expand drop-down */\n",
       "  max-height: 200px;\n",
       "  max-width: 100%;\n",
       "  overflow: auto;\n",
       "}\n",
       "\n",
       "#sk-container-id-4 input.sk-toggleable__control:checked~label.sk-toggleable__label-arrow:before {\n",
       "  content: \"▾\";\n",
       "}\n",
       "\n",
       "/* Pipeline/ColumnTransformer-specific style */\n",
       "\n",
       "#sk-container-id-4 div.sk-label input.sk-toggleable__control:checked~label.sk-toggleable__label {\n",
       "  color: var(--sklearn-color-text);\n",
       "  background-color: var(--sklearn-color-unfitted-level-2);\n",
       "}\n",
       "\n",
       "#sk-container-id-4 div.sk-label.fitted input.sk-toggleable__control:checked~label.sk-toggleable__label {\n",
       "  background-color: var(--sklearn-color-fitted-level-2);\n",
       "}\n",
       "\n",
       "/* Estimator-specific style */\n",
       "\n",
       "/* Colorize estimator box */\n",
       "#sk-container-id-4 div.sk-estimator input.sk-toggleable__control:checked~label.sk-toggleable__label {\n",
       "  /* unfitted */\n",
       "  background-color: var(--sklearn-color-unfitted-level-2);\n",
       "}\n",
       "\n",
       "#sk-container-id-4 div.sk-estimator.fitted input.sk-toggleable__control:checked~label.sk-toggleable__label {\n",
       "  /* fitted */\n",
       "  background-color: var(--sklearn-color-fitted-level-2);\n",
       "}\n",
       "\n",
       "#sk-container-id-4 div.sk-label label.sk-toggleable__label,\n",
       "#sk-container-id-4 div.sk-label label {\n",
       "  /* The background is the default theme color */\n",
       "  color: var(--sklearn-color-text-on-default-background);\n",
       "}\n",
       "\n",
       "/* On hover, darken the color of the background */\n",
       "#sk-container-id-4 div.sk-label:hover label.sk-toggleable__label {\n",
       "  color: var(--sklearn-color-text);\n",
       "  background-color: var(--sklearn-color-unfitted-level-2);\n",
       "}\n",
       "\n",
       "/* Label box, darken color on hover, fitted */\n",
       "#sk-container-id-4 div.sk-label.fitted:hover label.sk-toggleable__label.fitted {\n",
       "  color: var(--sklearn-color-text);\n",
       "  background-color: var(--sklearn-color-fitted-level-2);\n",
       "}\n",
       "\n",
       "/* Estimator label */\n",
       "\n",
       "#sk-container-id-4 div.sk-label label {\n",
       "  font-family: monospace;\n",
       "  font-weight: bold;\n",
       "  display: inline-block;\n",
       "  line-height: 1.2em;\n",
       "}\n",
       "\n",
       "#sk-container-id-4 div.sk-label-container {\n",
       "  text-align: center;\n",
       "}\n",
       "\n",
       "/* Estimator-specific */\n",
       "#sk-container-id-4 div.sk-estimator {\n",
       "  font-family: monospace;\n",
       "  border: 1px dotted var(--sklearn-color-border-box);\n",
       "  border-radius: 0.25em;\n",
       "  box-sizing: border-box;\n",
       "  margin-bottom: 0.5em;\n",
       "  /* unfitted */\n",
       "  background-color: var(--sklearn-color-unfitted-level-0);\n",
       "}\n",
       "\n",
       "#sk-container-id-4 div.sk-estimator.fitted {\n",
       "  /* fitted */\n",
       "  background-color: var(--sklearn-color-fitted-level-0);\n",
       "}\n",
       "\n",
       "/* on hover */\n",
       "#sk-container-id-4 div.sk-estimator:hover {\n",
       "  /* unfitted */\n",
       "  background-color: var(--sklearn-color-unfitted-level-2);\n",
       "}\n",
       "\n",
       "#sk-container-id-4 div.sk-estimator.fitted:hover {\n",
       "  /* fitted */\n",
       "  background-color: var(--sklearn-color-fitted-level-2);\n",
       "}\n",
       "\n",
       "/* Specification for estimator info (e.g. \"i\" and \"?\") */\n",
       "\n",
       "/* Common style for \"i\" and \"?\" */\n",
       "\n",
       ".sk-estimator-doc-link,\n",
       "a:link.sk-estimator-doc-link,\n",
       "a:visited.sk-estimator-doc-link {\n",
       "  float: right;\n",
       "  font-size: smaller;\n",
       "  line-height: 1em;\n",
       "  font-family: monospace;\n",
       "  background-color: var(--sklearn-color-background);\n",
       "  border-radius: 1em;\n",
       "  height: 1em;\n",
       "  width: 1em;\n",
       "  text-decoration: none !important;\n",
       "  margin-left: 1ex;\n",
       "  /* unfitted */\n",
       "  border: var(--sklearn-color-unfitted-level-1) 1pt solid;\n",
       "  color: var(--sklearn-color-unfitted-level-1);\n",
       "}\n",
       "\n",
       ".sk-estimator-doc-link.fitted,\n",
       "a:link.sk-estimator-doc-link.fitted,\n",
       "a:visited.sk-estimator-doc-link.fitted {\n",
       "  /* fitted */\n",
       "  border: var(--sklearn-color-fitted-level-1) 1pt solid;\n",
       "  color: var(--sklearn-color-fitted-level-1);\n",
       "}\n",
       "\n",
       "/* On hover */\n",
       "div.sk-estimator:hover .sk-estimator-doc-link:hover,\n",
       ".sk-estimator-doc-link:hover,\n",
       "div.sk-label-container:hover .sk-estimator-doc-link:hover,\n",
       ".sk-estimator-doc-link:hover {\n",
       "  /* unfitted */\n",
       "  background-color: var(--sklearn-color-unfitted-level-3);\n",
       "  color: var(--sklearn-color-background);\n",
       "  text-decoration: none;\n",
       "}\n",
       "\n",
       "div.sk-estimator.fitted:hover .sk-estimator-doc-link.fitted:hover,\n",
       ".sk-estimator-doc-link.fitted:hover,\n",
       "div.sk-label-container:hover .sk-estimator-doc-link.fitted:hover,\n",
       ".sk-estimator-doc-link.fitted:hover {\n",
       "  /* fitted */\n",
       "  background-color: var(--sklearn-color-fitted-level-3);\n",
       "  color: var(--sklearn-color-background);\n",
       "  text-decoration: none;\n",
       "}\n",
       "\n",
       "/* Span, style for the box shown on hovering the info icon */\n",
       ".sk-estimator-doc-link span {\n",
       "  display: none;\n",
       "  z-index: 9999;\n",
       "  position: relative;\n",
       "  font-weight: normal;\n",
       "  right: .2ex;\n",
       "  padding: .5ex;\n",
       "  margin: .5ex;\n",
       "  width: min-content;\n",
       "  min-width: 20ex;\n",
       "  max-width: 50ex;\n",
       "  color: var(--sklearn-color-text);\n",
       "  box-shadow: 2pt 2pt 4pt #999;\n",
       "  /* unfitted */\n",
       "  background: var(--sklearn-color-unfitted-level-0);\n",
       "  border: .5pt solid var(--sklearn-color-unfitted-level-3);\n",
       "}\n",
       "\n",
       ".sk-estimator-doc-link.fitted span {\n",
       "  /* fitted */\n",
       "  background: var(--sklearn-color-fitted-level-0);\n",
       "  border: var(--sklearn-color-fitted-level-3);\n",
       "}\n",
       "\n",
       ".sk-estimator-doc-link:hover span {\n",
       "  display: block;\n",
       "}\n",
       "\n",
       "/* \"?\"-specific style due to the `<a>` HTML tag */\n",
       "\n",
       "#sk-container-id-4 a.estimator_doc_link {\n",
       "  float: right;\n",
       "  font-size: 1rem;\n",
       "  line-height: 1em;\n",
       "  font-family: monospace;\n",
       "  background-color: var(--sklearn-color-background);\n",
       "  border-radius: 1rem;\n",
       "  height: 1rem;\n",
       "  width: 1rem;\n",
       "  text-decoration: none;\n",
       "  /* unfitted */\n",
       "  color: var(--sklearn-color-unfitted-level-1);\n",
       "  border: var(--sklearn-color-unfitted-level-1) 1pt solid;\n",
       "}\n",
       "\n",
       "#sk-container-id-4 a.estimator_doc_link.fitted {\n",
       "  /* fitted */\n",
       "  border: var(--sklearn-color-fitted-level-1) 1pt solid;\n",
       "  color: var(--sklearn-color-fitted-level-1);\n",
       "}\n",
       "\n",
       "/* On hover */\n",
       "#sk-container-id-4 a.estimator_doc_link:hover {\n",
       "  /* unfitted */\n",
       "  background-color: var(--sklearn-color-unfitted-level-3);\n",
       "  color: var(--sklearn-color-background);\n",
       "  text-decoration: none;\n",
       "}\n",
       "\n",
       "#sk-container-id-4 a.estimator_doc_link.fitted:hover {\n",
       "  /* fitted */\n",
       "  background-color: var(--sklearn-color-fitted-level-3);\n",
       "}\n",
       "</style><div id=\"sk-container-id-4\" class=\"sk-top-container\"><div class=\"sk-text-repr-fallback\"><pre>LinearRegression()</pre><b>In a Jupyter environment, please rerun this cell to show the HTML representation or trust the notebook. <br />On GitHub, the HTML representation is unable to render, please try loading this page with nbviewer.org.</b></div><div class=\"sk-container\" hidden><div class=\"sk-item\"><div class=\"sk-estimator fitted sk-toggleable\"><input class=\"sk-toggleable__control sk-hidden--visually\" id=\"sk-estimator-id-4\" type=\"checkbox\" checked><label for=\"sk-estimator-id-4\" class=\"sk-toggleable__label fitted sk-toggleable__label-arrow fitted\">&nbsp;&nbsp;LinearRegression<a class=\"sk-estimator-doc-link fitted\" rel=\"noreferrer\" target=\"_blank\" href=\"https://scikit-learn.org/1.4/modules/generated/sklearn.linear_model.LinearRegression.html\">?<span>Documentation for LinearRegression</span></a><span class=\"sk-estimator-doc-link fitted\">i<span>Fitted</span></span></label><div class=\"sk-toggleable__content fitted\"><pre>LinearRegression()</pre></div> </div></div></div></div>"
      ],
      "text/plain": [
       "LinearRegression()"
      ]
     },
     "execution_count": 53,
     "metadata": {},
     "output_type": "execute_result"
    }
   ],
   "source": [
    "lr_model.fit(x_train,y_train)"
   ]
  },
  {
   "cell_type": "code",
   "execution_count": 54,
   "id": "dc1027af-5c7a-4262-84ca-dd4de2139392",
   "metadata": {},
   "outputs": [],
   "source": [
    "y_pred=lr_model.predict(x_test)"
   ]
  },
  {
   "cell_type": "code",
   "execution_count": 55,
   "id": "43195530-ac8e-45cc-a2b2-afae2a818640",
   "metadata": {},
   "outputs": [
    {
     "data": {
      "text/plain": [
       "array([ -20.35321755,  131.80511019, -425.51229864,  -55.90943848,\n",
       "        -54.19441523, -117.46499811,  -19.91237288,  108.78024321,\n",
       "       -145.47228694, -286.14067566,  135.33192564,  260.5685977 ,\n",
       "        -79.25115308,   41.06074188,  281.17491278, -136.71204907,\n",
       "         25.0694593 , -100.12250604,  -19.84940381, -506.01587801,\n",
       "       -146.94048258,   42.99281039, -138.79058188,   21.19136336,\n",
       "         85.72497119,  193.07266819,  -23.46392101,    5.11019385,\n",
       "        118.6106516 ,  153.89960918])"
      ]
     },
     "execution_count": 55,
     "metadata": {},
     "output_type": "execute_result"
    }
   ],
   "source": [
    "y_pred"
   ]
  },
  {
   "cell_type": "code",
   "execution_count": 56,
   "id": "ef61ea05-223c-4032-8c87-d697b30148df",
   "metadata": {},
   "outputs": [
    {
     "data": {
      "text/plain": [
       "0.7057135223012412"
      ]
     },
     "execution_count": 56,
     "metadata": {},
     "output_type": "execute_result"
    }
   ],
   "source": [
    "lr_model.score(x_test,y_test)"
   ]
  },
  {
   "cell_type": "code",
   "execution_count": 57,
   "id": "bd59320d-9c4f-4c62-8c7b-1b618db44118",
   "metadata": {},
   "outputs": [],
   "source": [
    "mse = mean_squared_error(y_test, y_pred)"
   ]
  },
  {
   "cell_type": "code",
   "execution_count": 58,
   "id": "1257abd1-47f0-4e2c-bef6-ec555fc0b131",
   "metadata": {},
   "outputs": [
    {
     "data": {
      "text/plain": [
       "16489.443878809623"
      ]
     },
     "execution_count": 58,
     "metadata": {},
     "output_type": "execute_result"
    }
   ],
   "source": [
    "mse"
   ]
  },
  {
   "cell_type": "code",
   "execution_count": 59,
   "id": "655bb02f-f8fd-4d81-b7a5-e79442fcad3b",
   "metadata": {},
   "outputs": [],
   "source": [
    "mae=mean_absolute_error(y_test, y_pred)"
   ]
  },
  {
   "cell_type": "code",
   "execution_count": 60,
   "id": "3a12de5c-4662-4401-bcf4-b9701182738d",
   "metadata": {},
   "outputs": [
    {
     "data": {
      "text/plain": [
       "106.46357192479924"
      ]
     },
     "execution_count": 60,
     "metadata": {},
     "output_type": "execute_result"
    }
   ],
   "source": [
    "mae"
   ]
  },
  {
   "cell_type": "code",
   "execution_count": 61,
   "id": "b01dc2a0-c2fe-43ac-a2a9-e5f8f8ce7f14",
   "metadata": {},
   "outputs": [],
   "source": [
    "r2 = r2_score(y_test, y_pred)"
   ]
  },
  {
   "cell_type": "code",
   "execution_count": 62,
   "id": "86ba239e-0efb-4e90-8730-2d9780571310",
   "metadata": {},
   "outputs": [
    {
     "data": {
      "text/plain": [
       "0.7057135223012412"
      ]
     },
     "execution_count": 62,
     "metadata": {},
     "output_type": "execute_result"
    }
   ],
   "source": [
    "r2"
   ]
  },
  {
   "cell_type": "code",
   "execution_count": 63,
   "id": "b0afda59-0dfe-4757-96d1-796e6d1c5e15",
   "metadata": {},
   "outputs": [
    {
     "data": {
      "text/plain": [
       "[<matplotlib.lines.Line2D at 0x25906d171d0>,\n",
       " <matplotlib.lines.Line2D at 0x25906cdcf80>,\n",
       " <matplotlib.lines.Line2D at 0x25906d173e0>,\n",
       " <matplotlib.lines.Line2D at 0x25906d17560>,\n",
       " <matplotlib.lines.Line2D at 0x25906d17650>,\n",
       " <matplotlib.lines.Line2D at 0x25906d17710>,\n",
       " <matplotlib.lines.Line2D at 0x25906d177d0>,\n",
       " <matplotlib.lines.Line2D at 0x25906d178c0>,\n",
       " <matplotlib.lines.Line2D at 0x25906d179b0>,\n",
       " <matplotlib.lines.Line2D at 0x25906d17aa0>,\n",
       " <matplotlib.lines.Line2D at 0x25906d17b90>,\n",
       " <matplotlib.lines.Line2D at 0x25906d17c80>,\n",
       " <matplotlib.lines.Line2D at 0x25906bf4f20>,\n",
       " <matplotlib.lines.Line2D at 0x25906d17d70>,\n",
       " <matplotlib.lines.Line2D at 0x25906d17ef0>,\n",
       " <matplotlib.lines.Line2D at 0x25906d17fe0>,\n",
       " <matplotlib.lines.Line2D at 0x25906cfc890>,\n",
       " <matplotlib.lines.Line2D at 0x25906d4c1a0>,\n",
       " <matplotlib.lines.Line2D at 0x25906d4c290>,\n",
       " <matplotlib.lines.Line2D at 0x25906d4c380>,\n",
       " <matplotlib.lines.Line2D at 0x25906d4c470>,\n",
       " <matplotlib.lines.Line2D at 0x25906d4c560>,\n",
       " <matplotlib.lines.Line2D at 0x25906d4c620>,\n",
       " <matplotlib.lines.Line2D at 0x25906d4c710>,\n",
       " <matplotlib.lines.Line2D at 0x25906d4c800>,\n",
       " <matplotlib.lines.Line2D at 0x25906d4c8f0>,\n",
       " <matplotlib.lines.Line2D at 0x25906d4c9e0>,\n",
       " <matplotlib.lines.Line2D at 0x25906d4cad0>,\n",
       " <matplotlib.lines.Line2D at 0x25906d4cbc0>,\n",
       " <matplotlib.lines.Line2D at 0x25906d4ccb0>,\n",
       " <matplotlib.lines.Line2D at 0x25906d4cda0>,\n",
       " <matplotlib.lines.Line2D at 0x25906d4ce60>,\n",
       " <matplotlib.lines.Line2D at 0x25906d4cf50>,\n",
       " <matplotlib.lines.Line2D at 0x25906d4d040>,\n",
       " <matplotlib.lines.Line2D at 0x25906d4d130>,\n",
       " <matplotlib.lines.Line2D at 0x25906d4d1f0>,\n",
       " <matplotlib.lines.Line2D at 0x25906d4d2e0>,\n",
       " <matplotlib.lines.Line2D at 0x25906d4d3d0>,\n",
       " <matplotlib.lines.Line2D at 0x25906d4d4c0>,\n",
       " <matplotlib.lines.Line2D at 0x25906d4d5b0>,\n",
       " <matplotlib.lines.Line2D at 0x25906d4d6a0>,\n",
       " <matplotlib.lines.Line2D at 0x25906d4d790>,\n",
       " <matplotlib.lines.Line2D at 0x25906d4d880>,\n",
       " <matplotlib.lines.Line2D at 0x25906d4d970>,\n",
       " <matplotlib.lines.Line2D at 0x25906d4da60>,\n",
       " <matplotlib.lines.Line2D at 0x25906d4db50>,\n",
       " <matplotlib.lines.Line2D at 0x25906d4dc40>,\n",
       " <matplotlib.lines.Line2D at 0x25906d4dd30>,\n",
       " <matplotlib.lines.Line2D at 0x25906d14b00>,\n",
       " <matplotlib.lines.Line2D at 0x25906d4de20>,\n",
       " <matplotlib.lines.Line2D at 0x25906cfcd40>,\n",
       " <matplotlib.lines.Line2D at 0x25906d4dfa0>,\n",
       " <matplotlib.lines.Line2D at 0x25906c919a0>,\n",
       " <matplotlib.lines.Line2D at 0x25906d4e120>,\n",
       " <matplotlib.lines.Line2D at 0x25906d4e2d0>,\n",
       " <matplotlib.lines.Line2D at 0x25906d4e3c0>,\n",
       " <matplotlib.lines.Line2D at 0x25906d4e4b0>,\n",
       " <matplotlib.lines.Line2D at 0x25906d4e5a0>,\n",
       " <matplotlib.lines.Line2D at 0x25906d4e690>,\n",
       " <matplotlib.lines.Line2D at 0x25906d4e780>,\n",
       " <matplotlib.lines.Line2D at 0x25906d4e870>,\n",
       " <matplotlib.lines.Line2D at 0x25906d4e960>,\n",
       " <matplotlib.lines.Line2D at 0x25906d4ea20>,\n",
       " <matplotlib.lines.Line2D at 0x25906cfe780>,\n",
       " <matplotlib.lines.Line2D at 0x25906d4eb10>,\n",
       " <matplotlib.lines.Line2D at 0x25906d4ec90>,\n",
       " <matplotlib.lines.Line2D at 0x25906d4ed80>,\n",
       " <matplotlib.lines.Line2D at 0x25906d4ee70>,\n",
       " <matplotlib.lines.Line2D at 0x25906d4ef60>,\n",
       " <matplotlib.lines.Line2D at 0x25906d4f020>,\n",
       " <matplotlib.lines.Line2D at 0x25906d4f110>,\n",
       " <matplotlib.lines.Line2D at 0x25906d4f1d0>,\n",
       " <matplotlib.lines.Line2D at 0x25906d4f2c0>,\n",
       " <matplotlib.lines.Line2D at 0x25906d4f3b0>,\n",
       " <matplotlib.lines.Line2D at 0x25906d4f4a0>,\n",
       " <matplotlib.lines.Line2D at 0x25906d4f590>,\n",
       " <matplotlib.lines.Line2D at 0x25906d4f680>,\n",
       " <matplotlib.lines.Line2D at 0x25906d4f770>,\n",
       " <matplotlib.lines.Line2D at 0x25906d4f860>,\n",
       " <matplotlib.lines.Line2D at 0x25906d4f950>,\n",
       " <matplotlib.lines.Line2D at 0x25906d4fa40>,\n",
       " <matplotlib.lines.Line2D at 0x25906d4fb30>,\n",
       " <matplotlib.lines.Line2D at 0x25906d4fc20>,\n",
       " <matplotlib.lines.Line2D at 0x25906a8f1a0>,\n",
       " <matplotlib.lines.Line2D at 0x25906d4fd10>,\n",
       " <matplotlib.lines.Line2D at 0x25906d4fec0>,\n",
       " <matplotlib.lines.Line2D at 0x25906d4ffb0>,\n",
       " <matplotlib.lines.Line2D at 0x25906d6c0e0>,\n",
       " <matplotlib.lines.Line2D at 0x25906d6c1d0>,\n",
       " <matplotlib.lines.Line2D at 0x25906d6c2c0>,\n",
       " <matplotlib.lines.Line2D at 0x25906d6c3b0>,\n",
       " <matplotlib.lines.Line2D at 0x25906d6c4a0>,\n",
       " <matplotlib.lines.Line2D at 0x25906d6c590>,\n",
       " <matplotlib.lines.Line2D at 0x25906d6c680>,\n",
       " <matplotlib.lines.Line2D at 0x25906d6c770>,\n",
       " <matplotlib.lines.Line2D at 0x25906d6c830>,\n",
       " <matplotlib.lines.Line2D at 0x25906d6c8f0>,\n",
       " <matplotlib.lines.Line2D at 0x25906d6c9e0>,\n",
       " <matplotlib.lines.Line2D at 0x25906d6cad0>,\n",
       " <matplotlib.lines.Line2D at 0x25906d6cbc0>]"
      ]
     },
     "execution_count": 63,
     "metadata": {},
     "output_type": "execute_result"
    },
    {
     "data": {
      "image/png": "[encoded data removed]",
      "text/plain": [
       "<Figure size 640x480 with 1 Axes>"
      ]
     },
     "metadata": {},
     "output_type": "display_data"
    }
   ],
   "source": [
    "plt.plot(x, y, color='red')"
   ]
  },
  {
   "cell_type": "code",
   "execution_count": 65,
   "id": "2c91adbb-e233-4bbc-a0f5-e40f6d8fae50",
   "metadata": {},
   "outputs": [
    {
     "data": {
      "text/plain": [
       "Text(0, 0.5, 'Predicted Values')"
      ]
     },
     "execution_count": 65,
     "metadata": {},
     "output_type": "execute_result"
    },
    {
     "data": {
      "image/png": "[encoded data removed]",
      "text/plain": [
       "<Figure size 750x350 with 1 Axes>"
      ]
     },
     "metadata": {},
     "output_type": "display_data"
    }
   ],
   "source": [
    "plt.figure(figsize=(7.5, 3.5))\n",
    "plt.scatter(y_test, y_pred)\n",
    "plt.scatter(y_test.mean(), y_pred.mean())\n",
    "plt.xlabel('Actual Values')\n",
    "plt.ylabel('Predicted Values')"
   ]
  },
  {
   "cell_type": "code",
   "execution_count": 68,
   "id": "09712fbf-13a1-4487-b2f4-9e7061b0b7fd",
   "metadata": {},
   "outputs": [
    {
     "data": {
      "text/plain": [
       "array([ 2.85014644e+00,  8.57271857e+00, -4.15690608e+00, -6.39550461e+00,\n",
       "        5.72701047e+00, -4.44667565e+00, -2.34953242e+00, -4.67823424e+00,\n",
       "        1.41730577e+01, -5.65875775e+00,  3.12234311e+00,  1.58237617e+01,\n",
       "        1.03411028e+00,  5.79093441e+00, -1.69675854e+01, -1.33486689e+01,\n",
       "        9.69217757e+00,  1.61912258e+00,  5.66063917e-01,  1.67954533e+01,\n",
       "        3.59760711e+00, -5.54580183e-01,  2.39832135e-02, -2.10401441e+01,\n",
       "       -9.64016515e+00,  2.74021440e+00,  1.24900469e+00,  7.00444651e+00,\n",
       "       -3.17210961e+00,  8.39612229e+00, -2.95028998e+00,  1.41942735e+01,\n",
       "       -2.65871722e+00,  3.18759972e+00,  1.11122850e+01, -2.55732496e+00,\n",
       "       -7.79517314e+00, -7.51640421e+00, -6.60935386e+00,  4.05506061e+01,\n",
       "        1.45577265e+01, -7.13759786e+00,  6.21683634e+00, -8.39494684e+00,\n",
       "       -1.78756272e+01, -5.60231224e+00,  1.60155302e+01, -4.59033456e+00,\n",
       "        3.06916477e+00,  5.96620239e+00, -3.49012576e+00, -1.03062538e+00,\n",
       "       -5.64517602e+00, -4.01765441e-01,  1.79611817e+00,  4.43802920e+01,\n",
       "        5.86560999e+00, -2.82267465e+00, -8.37378462e-01,  6.38931176e+01,\n",
       "       -1.52976304e+01, -9.59919346e+00,  4.31694597e-01,  1.96524633e+01,\n",
       "        8.32748840e-01,  5.03714008e+00, -1.24140794e+01,  4.53759150e+00,\n",
       "        5.15015430e+00, -3.78496530e+00,  1.58822912e+01,  3.75078189e+01,\n",
       "        1.24856364e+01, -1.21878558e+01,  1.52074736e+00,  5.34027703e+00,\n",
       "       -8.01871043e+00,  2.03699856e+00,  8.34840574e+00, -1.65038873e+00,\n",
       "       -2.70959605e-01,  4.10125544e+00,  1.15418440e+01,  6.62448925e+00,\n",
       "       -9.30600552e+00,  7.74939646e+00,  1.54033466e+01, -4.17715862e+00,\n",
       "       -9.83486608e+00, -2.07184569e+00,  1.24810688e+01,  2.80697046e+01,\n",
       "        6.81081082e+00,  1.47561861e+01, -4.05950687e+00, -7.74598904e+00,\n",
       "        7.47935205e+00,  5.20887768e+00,  1.51965509e+01, -1.09534174e+01])"
      ]
     },
     "execution_count": 68,
     "metadata": {},
     "output_type": "execute_result"
    }
   ],
   "source": [
    "lr_model.coef_"
   ]
  },
  {
   "cell_type": "code",
   "execution_count": 67,
   "id": "dd462b5b-4ebb-4073-8a9c-70e4226eaca7",
   "metadata": {},
   "outputs": [
    {
     "data": {
      "text/plain": [
       "18.201177505698073"
      ]
     },
     "execution_count": 67,
     "metadata": {},
     "output_type": "execute_result"
    }
   ],
   "source": [
    "lr_model.intercept_"
   ]
  },
  {
   "cell_type": "code",
   "execution_count": null,
   "id": "517995b3-4705-4753-8b79-cafe2191ed89",
   "metadata": {},
   "outputs": [],
   "source": []
  }
 ],
 "metadata": {
  "kernelspec": {
   "display_name": "Python 3 (ipykernel)",
   "language": "python",
   "name": "python3"
  },
  "language_info": {
   "codemirror_mode": {
    "name": "ipython",
    "version": 3
   },
   "file_extension": ".py",
   "mimetype": "text/x-python",
   "name": "python",
   "nbconvert_exporter": "python",
   "pygments_lexer": "ipython3",
   "version": "3.12.4"
  }
 },
 "nbformat": 4,
 "nbformat_minor": 5
}
